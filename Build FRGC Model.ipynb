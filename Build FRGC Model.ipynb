{
 "metadata": {
  "name": ""
 },
 "nbformat": 3,
 "nbformat_minor": 0,
 "worksheets": [
  {
   "cells": [
    {
     "cell_type": "markdown",
     "metadata": {},
     "source": [
      " - Get the images from FRGC that are landmarked and label them.\n",
      " - Then constrain them to the convex hulls of their landmarks and create new images."
     ]
    },
    {
     "cell_type": "code",
     "collapsed": false,
     "input": [
      "from pybug.io import auto_import\n",
      "\n",
      "shape_images = auto_import('/vol/atlas/databases/frgc/spring2003/04687d*.abs')"
     ],
     "language": "python",
     "metadata": {},
     "outputs": []
    },
    {
     "cell_type": "code",
     "collapsed": false,
     "input": [
      "from pybug.landmark import labeller, ibug_68_points\n",
      "\n",
      "shape_images = labeller(shape_images, 'PTS', ibug_68_points)"
     ],
     "language": "python",
     "metadata": {},
     "outputs": []
    },
    {
     "cell_type": "code",
     "collapsed": false,
     "input": [
      "from pybug.image import BooleanNDImage, ShapeImage, DepthImage\n",
      "\n",
      "new_images = []\n",
      "for im in shape_images:\n",
      "    im.constrain_mask_to_landmarks(group='ibug_68_points')\n",
      "    im.mask = BooleanNDImage(np.logical_and(im.mask.mask, ~np.isnan(im.pixels[:, :, 0])))\n",
      "    new_images.append(ShapeImage(im.pixels, mask=im.mask, texture=im.mesh.texture))"
     ],
     "language": "python",
     "metadata": {},
     "outputs": []
    },
    {
     "cell_type": "markdown",
     "metadata": {},
     "source": [
      "We then need to interpolate the landmarks in to 3D.\n",
      "\n",
      "We can then procustes align them and then perform TPS to get them in the same space."
     ]
    },
    {
     "cell_type": "code",
     "collapsed": false,
     "input": [
      "from scipy.interpolate import griddata\n",
      "\n",
      "points = depth_image.mesh.points\n",
      "xi = mesh.landmarks['ibug_68_points'].all_landmarks.points\n",
      "\n",
      "z_values = griddata(points[:, :2], points[:, 2], xi)"
     ],
     "language": "python",
     "metadata": {},
     "outputs": []
    },
    {
     "cell_type": "code",
     "collapsed": false,
     "input": [
      "import mayavi.mlab as mlab\n",
      "from pybug.shape import PointCloud\n",
      "\n",
      "threed_landmarks = np.hstack([xi, z_values[..., None]])\n",
      "threed_landmarks = threed_landmarks[~np.any(np.isnan(threed_landmarks), axis=1), :]\n",
      "depth_image.mesh.add_landmark_set('PTS', {'all': PointCloud(threed_landmarks)})"
     ],
     "language": "python",
     "metadata": {},
     "outputs": []
    },
    {
     "cell_type": "code",
     "collapsed": false,
     "input": [
      "depth_image.mesh.landmarks['PTS'].view()"
     ],
     "language": "python",
     "metadata": {},
     "outputs": []
    }
   ],
   "metadata": {}
  }
 ]
}