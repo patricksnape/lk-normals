{
 "metadata": {
  "name": ""
 },
 "nbformat": 3,
 "nbformat_minor": 0,
 "worksheets": [
  {
   "cells": [
    {
     "cell_type": "code",
     "collapsed": false,
     "input": [
      "def cart2sph(x, y, z):\n",
      "    xy = np.power(x, 2) + np.power(y, 2)\n",
      "    # for elevation angle defined from XY-plane up\n",
      "    return np.vstack([np.arctan2(y, x), np.arctan2(z, np.sqrt(xy))]).T\n",
      "\n",
      "def sph2cart(azimuth, elevation, r):\n",
      "    cart = np.empty([azimuth.shape[0], 3])\n",
      "    azi_cos = np.cos(azimuth)\n",
      "    ele_cos = np.cos(elevation)\n",
      "    azi_sin = np.sin(azimuth)\n",
      "    ele_sin = np.sin(elevation)\n",
      "    cart[:, 0] = r * ele_cos * azi_cos\n",
      "    cart[:, 1] = r * ele_cos * azi_sin\n",
      "    cart[:, 2] = r * ele_sin\n",
      "    return cart\n",
      "\n",
      "def normalise_vector(v):\n",
      "    return v / np.sqrt(np.sum(v ** 2, axis=-1))[..., None]\n",
      "\n",
      "def row_norm(v):\n",
      "    return np.sqrt(np.sum(v ** 2, axis=-1))"
     ],
     "language": "python",
     "metadata": {},
     "outputs": []
    },
    {
     "cell_type": "code",
     "collapsed": false,
     "input": [
      "def logmap_cosine(vectors):\n",
      "    x = vectors[:, 0]\n",
      "    y = vectors[:, 1]\n",
      "    z = vectors[:, 2]\n",
      "    \n",
      "    xyz = np.sqrt(x ** 2 + y ** 2 + z ** 2)\n",
      "    \n",
      "    xy = np.sqrt(x ** 2 + y ** 2)\n",
      "    \n",
      "    gx  = x / xy\n",
      "    gy  = y / xy\n",
      "    gz  = z / xyz\n",
      "    sgz = np.sqrt(1 - gz ** 2)\n",
      "    \n",
      "    spher = np.vstack([gx, gy, gz, sgz]).T\n",
      "    spher[np.isnan(spher)] = 0.0\n",
      "    \n",
      "    return spher\n",
      "\n",
      "def expmap_cosine(angles):\n",
      "    gx = angles[:, 0]\n",
      "    gy = angles[:, 1]\n",
      "    gz = angles[:, 2]\n",
      "    sgz = angles[:, 3]\n",
      "    \n",
      "    gzsgz = np.sqrt(gz ** 2 + sgz ** 2)\n",
      "\n",
      "    gxgy = np.sqrt(gx ** 2 + gy ** 2)\n",
      "    \n",
      "    gx  = gx / gxgy\n",
      "    gy  = gy / gxgy\n",
      "    gz  = gz / gzsgz\n",
      "    sgz = sgz / gzsgz\n",
      "    \n",
      "    phi = np.arctan2(gy, gx)\n",
      "    theta = np.arctan(gz / sgz)\n",
      "    \n",
      "    cart = sph2cart(phi, theta, np.ones_like(phi))\n",
      "    cart[np.isnan(cart)] = 0.0\n",
      "\n",
      "    return cart"
     ],
     "language": "python",
     "metadata": {},
     "outputs": []
    },
    {
     "cell_type": "code",
     "collapsed": false,
     "input": [
      "N = normalise_vector(np.random.random([10000, 3]))"
     ],
     "language": "python",
     "metadata": {},
     "outputs": []
    },
    {
     "cell_type": "code",
     "collapsed": false,
     "input": [
      "np.allclose(expmap_cosine(logmap_cosine(N)), N)"
     ],
     "language": "python",
     "metadata": {},
     "outputs": []
    }
   ],
   "metadata": {}
  }
 ]
}